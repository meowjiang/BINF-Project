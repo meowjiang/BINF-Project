{
 "cells": [
  {
   "cell_type": "code",
   "execution_count": 1,
   "metadata": {
    "collapsed": true
   },
   "outputs": [],
   "source": [
    "import xlrd"
   ]
  },
  {
   "cell_type": "code",
   "execution_count": 2,
   "metadata": {
    "collapsed": false
   },
   "outputs": [],
   "source": [
    "book = xlrd.open_workbook('project/ATC.xlsx')\n",
    "sheet = book.sheet_by_index(0)"
   ]
  },
  {
   "cell_type": "code",
   "execution_count": 3,
   "metadata": {
    "collapsed": false
   },
   "outputs": [],
   "source": [
    "# Get entire ATC code list\n",
    "atc_raw = []\n",
    "for row in range(sheet.nrows):\n",
    "    atc_raw.append(sheet.cell(row, 0).value)"
   ]
  },
  {
   "cell_type": "code",
   "execution_count": 4,
   "metadata": {
    "collapsed": false
   },
   "outputs": [
    {
     "data": {
      "text/plain": [
       "[u'A - Alimentary tract and metabolism',\n",
       " u'A02 - Drugs for acid related disorders',\n",
       " u'A02B - Drugs for treatment of peptic ulcer',\n",
       " u'A02BC - Proton pump inhibitors',\n",
       " u'A02BC01 - Omeprazole']"
      ]
     },
     "execution_count": 4,
     "metadata": {},
     "output_type": "execute_result"
    }
   ],
   "source": [
    "atc_raw[:5]"
   ]
  },
  {
   "cell_type": "code",
   "execution_count": 5,
   "metadata": {
    "collapsed": true
   },
   "outputs": [],
   "source": [
    "book = xlrd.open_workbook('project/catalog_RZ.xlsx')\n",
    "sheet = book.sheet_by_name('drugs')"
   ]
  },
  {
   "cell_type": "code",
   "execution_count": 6,
   "metadata": {
    "collapsed": false
   },
   "outputs": [],
   "source": [
    "# Get list of all drug names, lowercase\n",
    "drug_names = []\n",
    "for row in range(1, sheet.nrows):\n",
    "    drug_names.append(sheet.cell(row, 1).value.lower())"
   ]
  },
  {
   "cell_type": "code",
   "execution_count": 7,
   "metadata": {
    "collapsed": false
   },
   "outputs": [
    {
     "data": {
      "text/plain": [
       "[u'abacavir', u'abiraterone', u'acamprosate', u'acarbose', u'acebutolol']"
      ]
     },
     "execution_count": 7,
     "metadata": {},
     "output_type": "execute_result"
    }
   ],
   "source": [
    "drug_names[:5]"
   ]
  },
  {
   "cell_type": "markdown",
   "metadata": {},
   "source": [
    "Parentheses are a huge pain in the ATC list. Remove all of them."
   ]
  },
  {
   "cell_type": "code",
   "execution_count": 8,
   "metadata": {
    "collapsed": true
   },
   "outputs": [],
   "source": [
    "# Remove parentheses and any text in them\n",
    "def remove_parentheses(drug_desc):\n",
    "    while drug_desc.find(' (') > 0:\n",
    "        drug_desc = drug_desc[:drug_desc.find(' (')] + drug_desc[drug_desc.find(')')+1:]\n",
    "    return drug_desc"
   ]
  },
  {
   "cell_type": "code",
   "execution_count": 9,
   "metadata": {
    "collapsed": true
   },
   "outputs": [],
   "source": [
    "atc_clean = []\n",
    "for x in atc_raw:\n",
    "    atc_clean.append(remove_parentheses(x))"
   ]
  },
  {
   "cell_type": "code",
   "execution_count": 17,
   "metadata": {
    "collapsed": false
   },
   "outputs": [
    {
     "data": {
      "text/plain": [
       "[u'V10BX02 - Samarium (153Sm) lexidronam',\n",
       " u'Quadramet (active)',\n",
       " u'V10X - Other therapeutic radiopharmaceuticals',\n",
       " u'V10X - Other therapeutic radiopharmaceuticals',\n",
       " u'V10XX - Various therapeutic radiopharmaceuticals',\n",
       " u'V10XX02 - Ibritumomab tiuxetan',\n",
       " u'Zevalin (active)',\n",
       " u'V10XX03 - Radium (223Ra) dichloride',\n",
       " u'Xofigo (active)',\n",
       " u'Yttriga (active)']"
      ]
     },
     "execution_count": 17,
     "metadata": {},
     "output_type": "execute_result"
    }
   ],
   "source": [
    "atc_raw[-10:]"
   ]
  },
  {
   "cell_type": "code",
   "execution_count": 18,
   "metadata": {
    "collapsed": false
   },
   "outputs": [
    {
     "data": {
      "text/plain": [
       "[u'V10BX02 - Samarium lexidronam',\n",
       " u'Quadramet',\n",
       " u'V10X - Other therapeutic radiopharmaceuticals',\n",
       " u'V10X - Other therapeutic radiopharmaceuticals',\n",
       " u'V10XX - Various therapeutic radiopharmaceuticals',\n",
       " u'V10XX02 - Ibritumomab tiuxetan',\n",
       " u'Zevalin',\n",
       " u'V10XX03 - Radium dichloride',\n",
       " u'Xofigo',\n",
       " u'Yttriga']"
      ]
     },
     "execution_count": 18,
     "metadata": {},
     "output_type": "execute_result"
    }
   ],
   "source": [
    "atc_clean[-10:]"
   ]
  },
  {
   "cell_type": "markdown",
   "metadata": {},
   "source": [
    "### Split ATC list into codes and descriptors"
   ]
  },
  {
   "cell_type": "code",
   "execution_count": 19,
   "metadata": {
    "collapsed": true
   },
   "outputs": [],
   "source": [
    "atc_split = [x.split(' - ') for x in atc_clean]"
   ]
  },
  {
   "cell_type": "code",
   "execution_count": 20,
   "metadata": {
    "collapsed": false
   },
   "outputs": [
    {
     "data": {
      "text/plain": [
       "True"
      ]
     },
     "execution_count": 20,
     "metadata": {},
     "output_type": "execute_result"
    }
   ],
   "source": [
    "len(atc_split) == len(atc_clean)"
   ]
  },
  {
   "cell_type": "code",
   "execution_count": 21,
   "metadata": {
    "collapsed": false
   },
   "outputs": [
    {
     "data": {
      "text/plain": [
       "[[u'A', u'Alimentary tract and metabolism'],\n",
       " [u'A02', u'Drugs for acid related disorders'],\n",
       " [u'A02B', u'Drugs for treatment of peptic ulcer'],\n",
       " [u'A02BC', u'Proton pump inhibitors'],\n",
       " [u'A02BC01', u'Omeprazole'],\n",
       " [u'Losec and associated names'],\n",
       " [u'A02BC02', u'Pantoprazole'],\n",
       " [u'CONTROLOC Control'],\n",
       " [u'PANTECTA Control'],\n",
       " [u'PANTOLOC Control']]"
      ]
     },
     "execution_count": 21,
     "metadata": {},
     "output_type": "execute_result"
    }
   ],
   "source": [
    "atc_split[:10]"
   ]
  },
  {
   "cell_type": "markdown",
   "metadata": {},
   "source": [
    "Let's keep all drug names and remove rows where the ATC has length < 7."
   ]
  },
  {
   "cell_type": "code",
   "execution_count": 25,
   "metadata": {
    "collapsed": true
   },
   "outputs": [],
   "source": [
    "# Keep only lowest level of hierarchy\n",
    "atc_drugs = []\n",
    "for x in atc_split:\n",
    "    if len(x) == 2 and len(x[0]) < 7:\n",
    "        pass\n",
    "    else:\n",
    "        atc_drugs.append(x)"
   ]
  },
  {
   "cell_type": "code",
   "execution_count": 26,
   "metadata": {
    "collapsed": false
   },
   "outputs": [
    {
     "data": {
      "text/plain": [
       "2759"
      ]
     },
     "execution_count": 26,
     "metadata": {},
     "output_type": "execute_result"
    }
   ],
   "source": [
    "len(atc_drugs)"
   ]
  },
  {
   "cell_type": "code",
   "execution_count": 27,
   "metadata": {
    "collapsed": false
   },
   "outputs": [
    {
     "data": {
      "text/plain": [
       "[[u'A02BC01', u'Omeprazole'],\n",
       " [u'Losec and associated names'],\n",
       " [u'A02BC02', u'Pantoprazole'],\n",
       " [u'CONTROLOC Control'],\n",
       " [u'PANTECTA Control'],\n",
       " [u'PANTOLOC Control'],\n",
       " [u'Pantoprazole Bluefish'],\n",
       " [u'Pantoprazole Olinka'],\n",
       " [u'Pantoprazole Olinka'],\n",
       " [u'PANTOZOL Control']]"
      ]
     },
     "execution_count": 27,
     "metadata": {},
     "output_type": "execute_result"
    }
   ],
   "source": [
    "atc_drugs[:10]"
   ]
  },
  {
   "cell_type": "code",
   "execution_count": 29,
   "metadata": {
    "collapsed": false
   },
   "outputs": [],
   "source": [
    "# For every drug without an explicit ATC, give it the previous row's ATC\n",
    "# Also lowercase drug names\n",
    "atc_drugs_full = []\n",
    "previous_row = []\n",
    "for x in atc_drugs:\n",
    "    if len(x) == 2:\n",
    "        atc_drugs_full.append([x[0], x[1].lower()])\n",
    "        previous_row = x\n",
    "    elif len(x) == 1:\n",
    "        atc_drugs_full.append([previous_row[0], x[0].lower()])\n",
    "        previous_row = [previous_row[0], x[0]]"
   ]
  },
  {
   "cell_type": "code",
   "execution_count": 30,
   "metadata": {
    "collapsed": false
   },
   "outputs": [
    {
     "data": {
      "text/plain": [
       "[[u'A02BC01', u'omeprazole'],\n",
       " [u'A02BC01', u'losec and associated names'],\n",
       " [u'A02BC02', u'pantoprazole'],\n",
       " [u'A02BC02', u'controloc control'],\n",
       " [u'A02BC02', u'pantecta control'],\n",
       " [u'A02BC02', u'pantoloc control'],\n",
       " [u'A02BC02', u'pantoprazole bluefish'],\n",
       " [u'A02BC02', u'pantoprazole olinka'],\n",
       " [u'A02BC02', u'pantoprazole olinka'],\n",
       " [u'A02BC02', u'pantozol control']]"
      ]
     },
     "execution_count": 30,
     "metadata": {},
     "output_type": "execute_result"
    }
   ],
   "source": [
    "atc_drugs_full[:10]"
   ]
  },
  {
   "cell_type": "code",
   "execution_count": 31,
   "metadata": {
    "collapsed": false
   },
   "outputs": [
    {
     "data": {
      "text/plain": [
       "[[u'Indimacis 125'],\n",
       " [u'V09IX04', u'Fludeoxyglucose'],\n",
       " [u'Gluscan 500'],\n",
       " [u'V10BX02', u'Samarium lexidronam'],\n",
       " [u'Quadramet'],\n",
       " [u'V10XX02', u'Ibritumomab tiuxetan'],\n",
       " [u'Zevalin'],\n",
       " [u'V10XX03', u'Radium dichloride'],\n",
       " [u'Xofigo'],\n",
       " [u'Yttriga']]"
      ]
     },
     "execution_count": 31,
     "metadata": {},
     "output_type": "execute_result"
    }
   ],
   "source": [
    "atc_drugs[-10:]"
   ]
  },
  {
   "cell_type": "code",
   "execution_count": 32,
   "metadata": {
    "collapsed": false
   },
   "outputs": [
    {
     "data": {
      "text/plain": [
       "[[u'V09IB03', u'indimacis 125'],\n",
       " [u'V09IX04', u'fludeoxyglucose'],\n",
       " [u'V09IX04', u'gluscan 500'],\n",
       " [u'V10BX02', u'samarium lexidronam'],\n",
       " [u'V10BX02', u'quadramet'],\n",
       " [u'V10XX02', u'ibritumomab tiuxetan'],\n",
       " [u'V10XX02', u'zevalin'],\n",
       " [u'V10XX03', u'radium dichloride'],\n",
       " [u'V10XX03', u'xofigo'],\n",
       " [u'V10XX03', u'yttriga']]"
      ]
     },
     "execution_count": 32,
     "metadata": {},
     "output_type": "execute_result"
    }
   ],
   "source": [
    "atc_drugs_full[-10:]"
   ]
  },
  {
   "cell_type": "code",
   "execution_count": 34,
   "metadata": {
    "collapsed": false
   },
   "outputs": [
    {
     "data": {
      "text/plain": [
       "True"
      ]
     },
     "execution_count": 34,
     "metadata": {},
     "output_type": "execute_result"
    }
   ],
   "source": [
    "len(atc_drugs) == len(atc_drugs_full)"
   ]
  },
  {
   "cell_type": "code",
   "execution_count": 64,
   "metadata": {
    "collapsed": false
   },
   "outputs": [
    {
     "name": "stdout",
     "output_type": "stream",
     "text": [
      "391\n"
     ]
    }
   ],
   "source": [
    "# Check that every drug in our list appears in atc_drugs_full\n",
    "count = 0\n",
    "for drug in drug_names:\n",
    "    if drug not in [x[1] for x in atc_drugs_full]:\n",
    "        #print drug\n",
    "        count += 1\n",
    "print count"
   ]
  },
  {
   "cell_type": "code",
   "execution_count": 45,
   "metadata": {
    "collapsed": false
   },
   "outputs": [],
   "source": [
    "# Create a {drug: [ATC code]} dict\n",
    "drug_atc_dict = {}\n",
    "for drug in drug_names:\n",
    "    if drug in [x[1] for x in atc_drugs_full]:\n",
    "        drug_atc_dict[drug] = list(set([x[0] for x in atc_drugs_full if x[1] == drug]))"
   ]
  },
  {
   "cell_type": "code",
   "execution_count": 46,
   "metadata": {
    "collapsed": false
   },
   "outputs": [
    {
     "data": {
      "text/plain": [
       "210"
      ]
     },
     "execution_count": 46,
     "metadata": {},
     "output_type": "execute_result"
    }
   ],
   "source": [
    "# Number of drugs mapped\n",
    "len(drug_atc_dict)"
   ]
  },
  {
   "cell_type": "code",
   "execution_count": 47,
   "metadata": {
    "collapsed": false
   },
   "outputs": [
    {
     "data": {
      "text/plain": [
       "601"
      ]
     },
     "execution_count": 47,
     "metadata": {},
     "output_type": "execute_result"
    }
   ],
   "source": [
    "# Total number of drugs\n",
    "len(drug_names)"
   ]
  },
  {
   "cell_type": "code",
   "execution_count": 51,
   "metadata": {
    "collapsed": false
   },
   "outputs": [
    {
     "data": {
      "text/plain": [
       "2"
      ]
     },
     "execution_count": 51,
     "metadata": {},
     "output_type": "execute_result"
    }
   ],
   "source": [
    "# What's the maximum number of codes a drug is mapped to?\n",
    "max([len(x) for x in drug_atc_dict.values()])"
   ]
  },
  {
   "cell_type": "code",
   "execution_count": 52,
   "metadata": {
    "collapsed": false
   },
   "outputs": [
    {
     "data": {
      "text/plain": [
       "206"
      ]
     },
     "execution_count": 52,
     "metadata": {},
     "output_type": "execute_result"
    }
   ],
   "source": [
    "# How many drugs are mapped to 1 code?\n",
    "len([len(x) for x in drug_atc_dict.values() if len(x) == 1])"
   ]
  },
  {
   "cell_type": "code",
   "execution_count": 59,
   "metadata": {
    "collapsed": true
   },
   "outputs": [],
   "source": [
    "import xlwt"
   ]
  },
  {
   "cell_type": "code",
   "execution_count": 63,
   "metadata": {
    "collapsed": false
   },
   "outputs": [],
   "source": [
    "# Write {drug: [ATC code]} dict to xls\n",
    "book = xlwt.Workbook()\n",
    "sheet = book.add_sheet('drug_atc_dict')\n",
    "row = 0\n",
    "\n",
    "for drug, atc_list in drug_atc_dict.items():\n",
    "    col = 0\n",
    "    sheet.write(row, col, drug)\n",
    "    for atc in atc_list:\n",
    "        col += 1\n",
    "        sheet.write(row, col, atc)\n",
    "    row += 1\n",
    "        \n",
    "book.save('project/drug_atc_dict.xls')"
   ]
  },
  {
   "cell_type": "code",
   "execution_count": null,
   "metadata": {
    "collapsed": true
   },
   "outputs": [],
   "source": []
  }
 ],
 "metadata": {
  "kernelspec": {
   "display_name": "Python 2",
   "language": "python",
   "name": "python2"
  },
  "language_info": {
   "codemirror_mode": {
    "name": "ipython",
    "version": 2
   },
   "file_extension": ".py",
   "mimetype": "text/x-python",
   "name": "python",
   "nbconvert_exporter": "python",
   "pygments_lexer": "ipython2",
   "version": "2.7.11"
  }
 },
 "nbformat": 4,
 "nbformat_minor": 0
}
